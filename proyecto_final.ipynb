version https://git-lfs.github.com/spec/v1
oid sha256:e3f66671cd45ff2a531cfc4f45cecd9165e1b883c4886a26d8bda500b5a22382
size 2168561
